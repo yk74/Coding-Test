{
  "nbformat": 4,
  "nbformat_minor": 0,
  "metadata": {
    "colab": {
      "name": "그리디.ipynb",
      "provenance": [],
      "authorship_tag": "ABX9TyNBp7Dcl4yQbqhZGGXKZ5is"
    },
    "kernelspec": {
      "name": "python3",
      "display_name": "Python 3"
    },
    "language_info": {
      "name": "python"
    }
  },
  "cells": [
    {
      "cell_type": "code",
      "execution_count": 3,
      "metadata": {
        "id": "p-0-mtsxzO3I",
        "colab": {
          "base_uri": "https://localhost:8080/"
        },
        "outputId": "b46e6aae-6ee6-4937-cc7b-eb794cea1248"
      },
      "outputs": [
        {
          "output_type": "stream",
          "name": "stdout",
          "text": [
            "5 8 3\n",
            "2 4 5 4 6\n",
            "46\n"
          ]
        }
      ],
      "source": [
        "## 실전2. 큰 수의 법칙 ##\n",
        "\n",
        "N,M,K = map(int, input().split())\n",
        "data = list(map(int, input().split()))\n",
        "\n",
        "data.sort()\n",
        "first = data[N-1]\n",
        "second = data[N-2]\n",
        "\n",
        "result = 0\n",
        "\n",
        "while True:\n",
        "  for i in range(K):\n",
        "    if M == 0:\n",
        "      break\n",
        "    result += first\n",
        "    M -= 1\n",
        "  if M == 0:\n",
        "    break\n",
        "  result += second\n",
        "  M -= 1\n",
        "\n",
        "print(result)"
      ]
    }
  ]
}