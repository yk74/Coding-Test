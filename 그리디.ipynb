{
  "nbformat": 4,
  "nbformat_minor": 0,
  "metadata": {
    "colab": {
      "name": "그리디.ipynb",
      "provenance": [],
      "authorship_tag": "ABX9TyNKnFd+k/e7CNOqKYSfKJEZ"
    },
    "kernelspec": {
      "name": "python3",
      "display_name": "Python 3"
    },
    "language_info": {
      "name": "python"
    }
  },
  "cells": [
    {
      "cell_type": "code",
      "execution_count": null,
      "metadata": {
        "id": "p-0-mtsxzO3I"
      },
      "outputs": [],
      "source": [
        "## 실전2. 큰 수의 법칙 ##\n",
        "\n",
        "N,M,K = int(input().spilt())\n",
        "N = "
      ]
    }
  ]
}