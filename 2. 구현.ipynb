{
  "nbformat": 4,
  "nbformat_minor": 0,
  "metadata": {
    "colab": {
      "name": "2. 구현.ipynb",
      "provenance": [],
      "authorship_tag": "ABX9TyOUB2sFK26XNA0UOrB8aFw6"
    },
    "kernelspec": {
      "name": "python3",
      "display_name": "Python 3"
    },
    "language_info": {
      "name": "python"
    }
  },
  "cells": [
    {
      "cell_type": "code",
      "source": [
        "# N 입력 받기\n",
        "n = int(input())\n",
        "x, y = 1, 1\n",
        "plans = input().split()\n",
        "\n",
        "# L, R, U, D에 따른 이동 방향\n",
        "dx = [0, 0, -1, 1]\n",
        "dy = [-1, 1, 0, 0]\n",
        "move_types = ['L', 'R', 'U', 'D']\n",
        "\n",
        "# 이동 계획을 하나씩 확인하기\n",
        "for plan in plans:\n",
        "    # 이동 후 좌표 구하기\n",
        "    for i in range(len(move_types)):\n",
        "        if plan == move_types[i]:\n",
        "            nx = x + dx[i]\n",
        "            ny = y + dy[i]\n",
        "        # 공간을 벗어나는 경우 무시\n",
        "        if nx < 1 or ny < 1 or nx > n or ny > n:\n",
        "            continue\n",
        "        # 이동 수행\n",
        "        x, y = nx, ny\n",
        "\n",
        "print(x, y)"
      ],
      "metadata": {
        "id": "1GHuAg9FzzFX"
      },
      "execution_count": null,
      "outputs": []
    }
  ]
}